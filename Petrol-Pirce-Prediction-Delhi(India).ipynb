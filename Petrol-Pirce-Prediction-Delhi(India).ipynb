{
 "cells": [
  {
   "cell_type": "code",
   "execution_count": 2,
   "metadata": {},
   "outputs": [
    {
     "data": {
      "text/plain": [
       "'\\nDate\\tDelhi\\n2018\\t78.43\\n2017\\t65.32\\n2016\\t63.02\\n2015\\t66.29\\n2014\\t71.51\\n2013\\t63.09\\n2012\\t73.18\\n2011\\t63.37\\n2010\\t47.93\\n2009\\t44.72\\n2008\\t45.56\\n2007\\t42.85\\n2006\\t47.51\\n2005\\t40.49\\n2003\\t32.49\\n2002\\t26.54\\n2000\\t28.70\\n1999\\t23.80\\n1998\\t23.94\\n1997\\t22.84\\n1996\\t21.13\\n1994\\t16.78\\n1992\\t15.71\\n1991\\t14.62\\n1990\\t12.23\\n1989\\t8.50\\n'"
      ]
     },
     "execution_count": 2,
     "metadata": {},
     "output_type": "execute_result"
    }
   ],
   "source": [
    "'''\n",
    "Date\tDelhi\n",
    "2018\t78.43\n",
    "2017\t65.32\n",
    "2016\t63.02\n",
    "2015\t66.29\n",
    "2014\t71.51\n",
    "2013\t63.09\n",
    "2012\t73.18\n",
    "2011\t63.37\n",
    "2010\t47.93\n",
    "2009\t44.72\n",
    "2008\t45.56\n",
    "2007\t42.85\n",
    "2006\t47.51\n",
    "2005\t40.49\n",
    "2003\t32.49\n",
    "2002\t26.54\n",
    "2000\t28.70\n",
    "1999\t23.80\n",
    "1998\t23.94\n",
    "1997\t22.84\n",
    "1996\t21.13\n",
    "1994\t16.78\n",
    "1992\t15.71\n",
    "1991\t14.62\n",
    "1990\t12.23\n",
    "1989\t8.50\n",
    "'''"
   ]
  },
  {
   "cell_type": "code",
   "execution_count": 3,
   "metadata": {},
   "outputs": [],
   "source": [
    "import csv\n",
    "import numpy as np\n",
    "from sklearn import linear_model\n",
    "import matplotlib.pyplot as plt"
   ]
  },
  {
   "cell_type": "code",
   "execution_count": 4,
   "metadata": {},
   "outputs": [],
   "source": [
    "dates = []\n",
    "prices = []\n",
    "\n",
    "def get_data(filename):\n",
    "    with open(filename,'r') as csvfile:\n",
    "        csvFileReader = csv.reader(csvfile)\n",
    "        next(csvFileReader) #skiping coloumn names\n",
    "        for row in csvFileReader:\n",
    "            dates.append(int(row[0]))\n",
    "            prices.append(float(row[1]))\n",
    "    return"
   ]
  },
  {
   "cell_type": "code",
   "execution_count": 5,
   "metadata": {},
   "outputs": [],
   "source": [
    "def predict_price(dates,prices,x):\n",
    "    linear_mod = linear_model.LinearRegression() # defining the linear regression model\n",
    "    dates = np.reshape(dates,(len(dates),1)) # converting to matrix of n X 1\n",
    "    prices = np.reshape(prices,(len(prices),1)) \n",
    "    linear_mod.fit(dates,prices) # fitting the data points in the model\n",
    "    predicted_price = linear_mod.predict(x)\n",
    "    return predicted_price[0][0],linear_mod.coef_[0][0], linear_mod.intercept_[0]"
   ]
  },
  {
   "cell_type": "code",
   "execution_count": 6,
   "metadata": {},
   "outputs": [],
   "source": [
    "def show_plot(dates,prices):\n",
    "    linear_mod = linear_model.LinearRegression()\n",
    "    dates = np.reshape(dates,(len(dates),1)) # converting to matrix of n X 1\n",
    "    prices = np.reshape(prices,(len(prices),1))\n",
    "    linear_mod.fit(dates,prices)# fitting the points in the model\n",
    "    plt.scatter(dates,prices,color='yellow') # plotting the initial points\n",
    "    plt.plot(dates,linear_mod.predict(dates),color='blue', linewidth=3)# plotting the line ade by linear regression\n",
    "    plt.show()\n",
    "    return"
   ]
  },
  {
   "cell_type": "code",
   "execution_count": 7,
   "metadata": {},
   "outputs": [
    {
     "name": "stdout",
     "output_type": "stream",
     "text": [
      "[2018, 2017, 2016, 2015, 2014, 2013, 2012, 2011, 2010, 2009, 2008, 2007, 2006, 2005, 2003, 2002, 2000, 1999, 1998, 1997, 1996, 1994, 1992, 1991, 1990, 1989]\n",
      "[78.43, 65.32, 63.02, 66.29, 71.51, 63.09, 73.18, 63.37, 47.93, 44.72, 45.56, 42.85, 47.51, 40.49, 32.49, 26.54, 28.7, 23.8, 23.94, 22.84, 21.13, 16.78, 15.71, 14.62, 12.23, 8.5]\n",
      "\n",
      "\n"
     ]
    }
   ],
   "source": [
    "get_data(r'C:\\Users\\Guestuser\\Desktop\\PetrolPricesYearly.csv') #calling get-data method by passing csv to it\n",
    "print(dates)\n",
    "print(prices)\n",
    "print(\"\\n\")"
   ]
  },
  {
   "cell_type": "code",
   "execution_count": 8,
   "metadata": {},
   "outputs": [
    {
     "data": {
      "image/png": "[encoded data removed]",
      "text/plain": [
       "<Figure size 432x288 with 1 Axes>"
      ]
     },
     "metadata": {},
     "output_type": "display_data"
    }
   ],
   "source": [
    "show_plot(dates,prices)"
   ]
  },
  {
   "cell_type": "code",
   "execution_count": 9,
   "metadata": {},
   "outputs": [
    {
     "name": "stdout",
     "output_type": "stream",
     "text": [
      "The price in 2019 is :  74.89314619442393\n",
      "The regression coefficinet is :  2.3211303692539578 and the constant is : -4611.469069329317\n",
      "the relationship equation between dates and prices is : price =  2.3211303692539578 * date +  -4611.469069329317\n"
     ]
    }
   ],
   "source": [
    "predicted_price, coefficient,constant = predict_price(dates,prices, 2019)\n",
    "print(\"The price in 2019 is : \", str(predicted_price))\n",
    "print(\"The regression coefficinet is : \", str(coefficient),\"and the constant is :\", str(constant))\n",
    "print(\"the relationship equation between dates and prices is : price = \", str(coefficient), \"* date + \", str(constant))"
   ]
  },
  {
   "cell_type": "code",
   "execution_count": null,
   "metadata": {},
   "outputs": [],
   "source": []
  }
 ],
 "metadata": {
  "kernelspec": {
   "display_name": "Python 3",
   "language": "python",
   "name": "python3"
  },
  "language_info": {
   "codemirror_mode": {
    "name": "ipython",
    "version": 3
   },
   "file_extension": ".py",
   "mimetype": "text/x-python",
   "name": "python",
   "nbconvert_exporter": "python",
   "pygments_lexer": "ipython3",
   "version": "3.6.5"
  }
 },
 "nbformat": 4,
 "nbformat_minor": 2
}
