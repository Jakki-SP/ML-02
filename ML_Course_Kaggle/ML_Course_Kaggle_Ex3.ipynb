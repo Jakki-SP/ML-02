{
 "cells": [
  {
   "cell_type": "code",
   "execution_count": 7,
   "metadata": {},
   "outputs": [],
   "source": [
    "from sklearn.metrics import mean_absolute_error\n",
    "from sklearn.tree import DecisionTreeRegressor\n",
    "\n",
    "def get_mae(max_leaf_nodes, train_X, val_X, train_y, val_y):\n",
    "    model = DecisionTreeRegressor(max_leaf_nodes = max_leaf_nodes, random_state = 0)\n",
    "    model.fit(train_X, train_y)\n",
    "    y_predictions = model.predict(val_X)\n",
    "    mae = mean_absolute_error(val_y, y_predictions)\n",
    "    return(mae)"
   ]
  },
  {
   "cell_type": "code",
   "execution_count": 10,
   "metadata": {},
   "outputs": [],
   "source": [
    "import pandas as pd\n",
    "file_path = r\"C:\\Users\\Guestuser\\Downloads\\Housing\\melb_data\\melb_data.csv\"\n",
    "df = pd.read_csv(file_path)\n",
    "df_filtered = df.dropna(axis=0)\n",
    "y = df_filtered.Price\n",
    "features = ['Rooms', 'Bathroom', 'Landsize', \"BuildingArea\", 'YearBuilt', 'Lattitude', 'Longtitude']\n",
    "X = df_filtered[features]\n",
    "\n",
    "from sklearn.model_selection import train_test_split\n",
    "train_X, val_X, train_y, val_y = train_test_split(X, y, random_state = 0)"
   ]
  },
  {
   "cell_type": "code",
   "execution_count": 12,
   "metadata": {},
   "outputs": [
    {
     "name": "stdout",
     "output_type": "stream",
     "text": [
      "Max Leaf Nodes : 5 \t\t Mean absolute Error : 347380\n",
      "Max Leaf Nodes : 50 \t\t Mean absolute Error : 257829\n",
      "Max Leaf Nodes : 500 \t\t Mean absolute Error : 243176\n",
      "Max Leaf Nodes : 5000 \t\t Mean absolute Error : 254915\n"
     ]
    }
   ],
   "source": [
    "for nodes in [5, 50, 500, 5000]:\n",
    "    mae = get_mae(nodes, train_X, val_X, train_y, val_y)\n",
    "    print(\"Max Leaf Nodes : %d \\t\\t Mean absolute Error : %d\" %(nodes, mae))"
   ]
  },
  {
   "cell_type": "code",
   "execution_count": null,
   "metadata": {},
   "outputs": [],
   "source": []
  },
  {
   "cell_type": "code",
   "execution_count": null,
   "metadata": {},
   "outputs": [],
   "source": []
  }
 ],
 "metadata": {
  "kernelspec": {
   "display_name": "Python 3",
   "language": "python",
   "name": "python3"
  },
  "language_info": {
   "codemirror_mode": {
    "name": "ipython",
    "version": 3
   },
   "file_extension": ".py",
   "mimetype": "text/x-python",
   "name": "python",
   "nbconvert_exporter": "python",
   "pygments_lexer": "ipython3",
   "version": "3.7.0"
  }
 },
 "nbformat": 4,
 "nbformat_minor": 2
}
